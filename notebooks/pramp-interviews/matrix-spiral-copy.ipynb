{
 "cells": [
  {
   "cell_type": "code",
   "execution_count": 76,
   "metadata": {
    "collapsed": false
   },
   "outputs": [],
   "source": [
    "# Matrix spiral copy\n",
    "\n",
    "def spiral_copy(input_matrix):\n",
    "    n_rows = len(input_matrix)\n",
    "    n_cols = len(input_matrix[0])\n",
    "    N = n_rows * n_cols\n",
    "    \n",
    "    col_min = 0\n",
    "    col_max = n_cols\n",
    "    \n",
    "    row_min = 0\n",
    "    row_max = n_rows\n",
    "     \n",
    "    i = 0\n",
    "    result = [0] * N\n",
    "    while True:  \n",
    "        for col in range(col_min, col_max):\n",
    "            result[i] = input_matrix[row_min][col]\n",
    "            i += 1\n",
    "        row_min += 1\n",
    "        if i == N:\n",
    "            break\n",
    "        \n",
    "        for row in range(row_min, row_max):\n",
    "            result[i] = input_matrix[row][col_max - 1]\n",
    "            i += 1\n",
    "        col_max -= 1\n",
    "        if i == N:\n",
    "            break\n",
    "        \n",
    "        for col in range(col_min, col_max)[::-1]:\n",
    "            result[i] = input_matrix[row_max - 1][col]\n",
    "            i += 1\n",
    "        row_max -= 1\n",
    "        if i == N:\n",
    "            break\n",
    "        \n",
    "        for row in range(row_min, row_max)[::-1]:\n",
    "            result[i] = input_matrix[row][col_min]\n",
    "            i += 1\n",
    "        col_min += 1\n",
    "        if i == N:\n",
    "            break\n",
    "    \n",
    "    return result\n",
    "    \n",
    "\n",
    "assert spiral_copy([[1],[2],[3]]) == [1, 2, 3]\n",
    "assert spiral_copy([[1, 2],[3, 4],[5, 6]]) == [1, 2, 4, 6, 5, 3]\n",
    "assert spiral_copy([[1, 2, 3, 4], [5, 6, 7, 8], [9, 10, 11, 12]]) == [1, 2, 3, 4, 8, 12, 11, 10, 9, 5, 6, 7]"
   ]
  }
 ],
 "metadata": {
  "anaconda-cloud": {},
  "kernelspec": {
   "display_name": "Python [default]",
   "language": "python",
   "name": "python2"
  },
  "language_info": {
   "codemirror_mode": {
    "name": "ipython",
    "version": 2
   },
   "file_extension": ".py",
   "mimetype": "text/x-python",
   "name": "python",
   "nbconvert_exporter": "python",
   "pygments_lexer": "ipython2",
   "version": "2.7.12"
  }
 },
 "nbformat": 4,
 "nbformat_minor": 1
}
