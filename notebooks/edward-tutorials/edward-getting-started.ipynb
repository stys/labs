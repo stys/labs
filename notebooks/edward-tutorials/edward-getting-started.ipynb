{
 "cells": [
  {
   "cell_type": "markdown",
   "metadata": {},
   "source": [
    "### Getting started tutorial\n",
    "http://edwardlib.org/getting-started\n",
    "http://nbviewer.jupyter.org/github/blei-lab/edward/blob/master/notebooks/getting_started.ipynb"
   ]
  },
  {
   "cell_type": "code",
   "execution_count": 16,
   "metadata": {
    "collapsed": false
   },
   "outputs": [],
   "source": [
    "%matplotlib inline\n",
    "\n",
    "import numpy as np\n",
    "import matplotlib.pyplot as plt\n",
    "\n",
    "import tensorflow as tf\n",
    "import edward as ed\n",
    "from edward.models import Normal\n",
    "\n",
    "sess = ed.get_session()\n",
    "tf.global_variables_initializer().run()"
   ]
  },
  {
   "cell_type": "code",
   "execution_count": 17,
   "metadata": {
    "collapsed": false
   },
   "outputs": [
    {
     "data": {
      "text/plain": [
       "[<matplotlib.lines.Line2D at 0x12118f490>]"
      ]
     },
     "execution_count": 17,
     "metadata": {},
     "output_type": "execute_result"
    },
    {
     "data": {
      "image/png": "[encoded data removed]",
      "text/plain": [
       "<matplotlib.figure.Figure at 0x120efa410>"
      ]
     },
     "metadata": {},
     "output_type": "display_data"
    }
   ],
   "source": [
    "# generate training data\n",
    "N = 50\n",
    "x_train = np.linspace(-3, 3, num=N)\n",
    "y_train = np.cos(x_train) + np.random.normal(0, 0.1, size=50)\n",
    "x_train = x_train.astype('float32').reshape((N, 1))\n",
    "y_train = y_train.astype('float32').reshape((N, 1))\n",
    "\n",
    "plt.plot(x_train, y_train, '.')"
   ]
  },
  {
   "cell_type": "code",
   "execution_count": 18,
   "metadata": {
    "collapsed": false
   },
   "outputs": [],
   "source": [
    "# two layer feed-forward neural net\n",
    "def ffnet(x, W0, b0, W1, b1):\n",
    "    return tf.matmul(tf.tanh(tf.matmul(x, W0) + b0), W1) + b1\n",
    "\n",
    "W0 = Normal(loc=tf.zeros([1, 2]), scale=tf.ones([1, 2])) # one input -> two hidden units\n",
    "b0 = Normal(loc=tf.zeros(2), scale=tf.ones(2)) # bias for two hiddin units\n",
    "\n",
    "W1 = Normal(loc=tf.zeros([2, 1]), scale=tf.ones([2, 1])) # two hidden units -> one output unit\n",
    "b1 = Normal(loc=tf.zeros(1), scale=tf.ones(1)) # bias for output unit\n",
    "\n",
    "y = Normal(loc=ffnet(x_train, W0, b0, W1, b1), scale=tf.constant(0.1))"
   ]
  },
  {
   "cell_type": "code",
   "execution_count": 19,
   "metadata": {
    "collapsed": false
   },
   "outputs": [
    {
     "name": "stdout",
     "output_type": "stream",
     "text": [
      "1000/1000 [100%] ██████████████████████████████ Elapsed: 2s | Loss: -18.711\n"
     ]
    }
   ],
   "source": [
    "# variational inference\n",
    "qW0 = Normal(loc=tf.Variable(tf.zeros([1, 2])), scale=tf.nn.softplus(tf.Variable(tf.zeros([1, 2]))))\n",
    "qW1 = Normal(loc=tf.Variable(tf.zeros([2, 1])), scale=tf.nn.softplus(tf.Variable(tf.zeros([2, 1]))))\n",
    "qb0 = Normal(loc=tf.Variable(tf.zeros(2)), scale=tf.nn.softplus(tf.Variable(tf.zeros(2))))\n",
    "qb1 = Normal(loc=tf.Variable(tf.zeros(1)), scale=tf.nn.softplus(tf.Variable(tf.zeros(1))))\n",
    "\n",
    "inference = ed.KLqp({W0: qW0, b0: qb0, W1: qW1, b1: qb1}, data={y: y_train})\n",
    "inference.run(n_iter=1000)"
   ]
  },
  {
   "cell_type": "code",
   "execution_count": 20,
   "metadata": {
    "collapsed": false
   },
   "outputs": [
    {
     "data": {
      "text/plain": [
       "[<matplotlib.lines.Line2D at 0x122538390>]"
      ]
     },
     "execution_count": 20,
     "metadata": {},
     "output_type": "execute_result"
    },
    {
     "data": {
      "image/png": "[encoded data removed]",
      "text/plain": [
       "<matplotlib.figure.Figure at 0x1220aa590>"
      ]
     },
     "metadata": {},
     "output_type": "display_data"
    }
   ],
   "source": [
    "# visualize samples of inferred network\n",
    "inputs = np.linspace(-5, 5, num=400, dtype=np.float32)\n",
    "x = tf.expand_dims(inputs, 1)\n",
    "mus = tf.stack(\n",
    "    [ffnet(x, qW0.sample(), qb0.sample(), qW1.sample(), qb1.sample())\n",
    "     for _ in range(10)])\n",
    "outputs = mus.eval()\n",
    "\n",
    "fig = plt.figure(figsize=(10, 6))\n",
    "ax = fig.add_subplot(111)\n",
    "ax.set_title(\"Iteration: 0\")\n",
    "ax.plot(x_train, y_train, 'ks', alpha=0.5, label='(x, y)')\n",
    "ax.plot(inputs, outputs[0], 'r', lw=2, alpha=0.5, label='prior draws')\n"
   ]
  }
 ],
 "metadata": {
  "anaconda-cloud": {},
  "kernelspec": {
   "display_name": "Python [conda env:edward]",
   "language": "python",
   "name": "conda-env-edward-py"
  },
  "language_info": {
   "codemirror_mode": {
    "name": "ipython",
    "version": 2
   },
   "file_extension": ".py",
   "mimetype": "text/x-python",
   "name": "python",
   "nbconvert_exporter": "python",
   "pygments_lexer": "ipython2",
   "version": "2.7.14"
  }
 },
 "nbformat": 4,
 "nbformat_minor": 1
}
