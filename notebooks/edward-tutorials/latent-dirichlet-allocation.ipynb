{
 "cells": [
  {
   "cell_type": "markdown",
   "metadata": {},
   "source": [
    "### Latent Dirichlet Allocation\n"
   ]
  },
  {
   "cell_type": "code",
   "execution_count": 1,
   "metadata": {
    "collapsed": false
   },
   "outputs": [],
   "source": [
    "import numpy as np\n",
    "from scipy.special import digamma\n",
    "\n",
    "import tensorflow as tf\n",
    "import edward as ed\n",
    "from edward.models import Dirichlet, Multinomial, Categorical, Binomial, Empirical"
   ]
  },
  {
   "cell_type": "code",
   "execution_count": 165,
   "metadata": {
    "collapsed": false
   },
   "outputs": [
    {
     "name": "stdout",
     "output_type": "stream",
     "text": [
      "(array([0, 1, 2]), array([ 8, 24, 68]))\n",
      "[2 2 0 2 2 2 1 2 2 2 2 2 2 1 2 2 2 2 2 1 2 1 2 2 0 2 2 1 2 1 2 0 2 1 2 0 2\n",
      " 2 1 2 2 2 1 2 2 2 2 2 2 1 2 2 2 2 0 0 2 2 2 1 2 1 1 2 2 2 2 2 1 2 2 2 1 2\n",
      " 2 1 1 1 2 1 1 2 2 0 2 2 2 1 2 2 1 2 2 0 2 2 1 1 2 2]\n"
     ]
    }
   ],
   "source": [
    "# Task: infer topic mixture in a document. For each word in document a random topic is selected \n",
    "# according to topic probabilities and than a random word is selected according to word \n",
    "# probabilities of the selected topic. Assuming word probabilities is known for each topic. Only\n",
    "# topic mixture is unknown.\n",
    "\n",
    "N = 100      # number of words in the document\n",
    "T = 3        # number of topics\n",
    "W = 5        # number of distinct words\n",
    "\n",
    "# Word probabilities in topics\n",
    "beta = np.array([\n",
    "    [0.9, 0.1, 0.0, 0.0, 0.0],      # topic 0\n",
    "    [0.0, 0.1, 0.8, 0.1, 0.0],      # topic 1\n",
    "    [0.0, 0.0, 0.0, 0.1, 0.9]       # topic 2\n",
    "]).astype(np.float32)\n",
    "\n",
    "# Probabilities of topics\n",
    "theta = np.array([0.1, 0.2, 0.70])\n",
    "\n",
    "# Generate document\n",
    "def gen_document(n):\n",
    "    topics = np.random.choice(range(T), p=theta, size=n)\n",
    "    document = np.array([np.random.choice(range(W), p=beta[t, :], size=1) for t in topics]).flatten()\n",
    "    return document, topics\n",
    "    \n",
    "# sample a document\n",
    "document, topics = gen_document(N)"
   ]
  },
  {
   "cell_type": "code",
   "execution_count": 166,
   "metadata": {
    "collapsed": true
   },
   "outputs": [],
   "source": []
  }
 ],
 "metadata": {
  "anaconda-cloud": {},
  "kernelspec": {
   "display_name": "Python [conda env:edward]",
   "language": "python",
   "name": "conda-env-edward-py"
  },
  "language_info": {
   "codemirror_mode": {
    "name": "ipython",
    "version": 2
   },
   "file_extension": ".py",
   "mimetype": "text/x-python",
   "name": "python",
   "nbconvert_exporter": "python",
   "pygments_lexer": "ipython2",
   "version": "2.7.14"
  }
 },
 "nbformat": 4,
 "nbformat_minor": 1
}
