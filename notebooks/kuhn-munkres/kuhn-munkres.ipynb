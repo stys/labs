{
 "cells": [
  {
   "cell_type": "code",
   "execution_count": 1,
   "metadata": {
    "collapsed": true
   },
   "outputs": [],
   "source": [
    "# Hungarian algorithm for maximum matching in bipartite graphs\n",
    "# References:\n",
    "# https://youtu.be/ory4WMX0rDU\n",
    "# https://youtu.be/djaqebV3vmY\n",
    "# R. Burkard et al, Linear Assignment Problems and Extensions \n",
    "# https://www.opt.math.tugraz.at/~cela/papers/lap_bericht.pdf"
   ]
  },
  {
   "cell_type": "code",
   "execution_count": 2,
   "metadata": {
    "collapsed": true
   },
   "outputs": [],
   "source": [
    "import numpy as np\n",
    "from scipy.optimize import linear_sum_assignment\n",
    "import timeit"
   ]
  },
  {
   "cell_type": "code",
   "execution_count": 29,
   "metadata": {
    "collapsed": false
   },
   "outputs": [],
   "source": [
    "def max_matching(W):\n",
    "    nx, ny = W.shape\n",
    "    M = [-1] * (nx + ny)   # matching  \n",
    "    E = [[nx + k for k, w in enumerate(row) if w > 0] for j, row in enumerate(W)]  #edges\n",
    "    \n",
    "    # initialize\n",
    "    P =[-1] * (nx + ny)   # predecessors\n",
    "    T =[-1] * (nx + ny)   # R, T sets\n",
    "    for x in xrange(nx):\n",
    "        T[x] = 0 if M[x] == -1 else -1\n",
    "    \n",
    "    while True:    \n",
    "        # take next unmarked element of R           \n",
    "        x = next((j for j, m in enumerate(T[:nx]) if m == 0), None)\n",
    "        \n",
    "        # if there are no unmarked elements - terminate \n",
    "        if x is None:\n",
    "            # output current matching and vertex cover\n",
    "            M = [(x, M[x] - nx) for x in xrange(nx) if M[x] != -1]\n",
    "            Q = ([j for j, r in enumerate(T[:nx]) if r == -1], [j for j, t in enumerate(T[nx:]) if t == 0])\n",
    "            return M, Q\n",
    "        \n",
    "        else:\n",
    "            # set mark on current vertex\n",
    "            T[x] = 1 \n",
    "            \n",
    "            # scan all edges from x which are not part of matching\n",
    "            for y in E[x]:\n",
    "                if M[x] != y:\n",
    "                    \n",
    "                    # if vertex has not been visited\n",
    "                    if T[y] == -1:\n",
    "                        P[y] = x\n",
    "                        T[y] = 0\n",
    "\n",
    "                    # if vertex is unmatched, we have found an augmenting path\n",
    "                    if M[y] == -1:\n",
    "                        p = y\n",
    "                        a = True\n",
    "                        \n",
    "                        # collect path by following predecessors and invert matching edges along the path\n",
    "                        while p != -1:\n",
    "                            if a is True:\n",
    "                                M[p] = P[p]\n",
    "                                M[P[p]] = p\n",
    "                            p = P[p]\n",
    "                            a = not a\n",
    "                        \n",
    "                        # reinitialize state\n",
    "                        P =[-1] * (nx + ny)\n",
    "                        T =[-1] * (nx + ny)\n",
    "                        for j in xrange(nx):\n",
    "                            T[j] = 0 if M[j] == -1 else -1\n",
    "                            \n",
    "                        break\n",
    "                    \n",
    "                    # if vertex is matched, continue to scan path\n",
    "                    else:\n",
    "                        x_ = M[y]\n",
    "                        T[x_] = 0 if T[x_] == -1 else T[x_]\n",
    "                        P[x_] = y\n",
    "\n",
    "def max_weight_matching(W, u=None, v=None, fixed_assignment=None):\n",
    "    EPS = 1.e-12\n",
    "    nx, ny = W.shape\n",
    "    \n",
    "    # initialize potentials\n",
    "    if nx > ny:\n",
    "        u = np.zeros(nx) if u is None else u\n",
    "        v = np.max(W, axis=0) if v is None else v\n",
    "    else:\n",
    "        u = np.max(W, axis=1) if u is None else u\n",
    "        v = np.zeros(ny) if v is None else v\n",
    "    \n",
    "    # main loop\n",
    "    while True:\n",
    "        # compute reduced weights\n",
    "        E = np.array([[u[j] + v[k] - w for k, w in enumerate(row)] for j, row in enumerate(W)])      \n",
    "               \n",
    "        # find tight subgraph, i.e add edges where E[i,j] == 0\n",
    "        G = np.array([[1.0 if abs(e) < EPS else 0.0 for k, e in enumerate(row)] for j, row in enumerate(E)])\n",
    "        \n",
    "        if fixed_assignment is not None:\n",
    "            G[fixed_assignment[0], :] = 0\n",
    "            G[:, fixed_assignment[1]] = 0\n",
    "            G[fixed_assignment[0], fixed_assignment[1]] = 1\n",
    "        \n",
    "        # find maximum matching and minimum vertex cover in tight subgraph\n",
    "        M, Q = max_matching(G)\n",
    "                \n",
    "        # if matching is maximal: terminate\n",
    "        if len(M) == min(nx, ny):\n",
    "            break\n",
    "        \n",
    "        e = np.min([E[j, k] for k, e in enumerate(row) for j, row in enumerate(E) if (j not in Q[0] and k not in Q[1])])       \n",
    "        \n",
    "        if nx >= ny:\n",
    "            u = [u[j] + e if j in Q[0] else u[j] for j in xrange(nx)]\n",
    "            v = [v[k] - e if k not in Q[1] else v[k] for k in xrange(ny)]\n",
    "        else:\n",
    "            u = [u[j] - e if j not in Q[0] else u[j] for j in xrange(nx)]\n",
    "            v = [v[k] + e if k in Q[1] else v[k] for k in xrange(ny)]\n",
    "    \n",
    "    # compute weight of maximum matching\n",
    "    weight = np.sum(u) + np.sum(v)\n",
    "    \n",
    "    # output weight of maximum matching, list of matched nodes, potentials\n",
    "    return weight, M, u, v\n"
   ]
  },
  {
   "cell_type": "code",
   "execution_count": 30,
   "metadata": {
    "collapsed": false
   },
   "outputs": [],
   "source": [
    "# Basic test\n",
    "dims = [(5, 3), (3, 5), (1, 1), (10, 10)]\n",
    "\n",
    "for d in dims:\n",
    "    for iter in xrange(1000):\n",
    "        W = np.random.randn(d[0], d[1])\n",
    "        m_ = linear_sum_assignment(-W)\n",
    "        cost_ = W[m_[0], m_[1]].sum()\n",
    "        cost, matching, u, v = max_weight_matching(W)\n",
    "        assert abs(cost - cost_) < 1.e-8"
   ]
  },
  {
   "cell_type": "code",
   "execution_count": null,
   "metadata": {
    "collapsed": false
   },
   "outputs": [],
   "source": [
    "N = 20\n",
    "t1, t2, t3 = np.zeros(N), np.zeros(N), np.zeros(N)\n",
    "\n",
    "for n in xrange(2, N):\n",
    "    for j in xrange(100):\n",
    "        W = np.random.randn(n, n)\n",
    "        start_time = timeit.default_timer()\n",
    "        cost, M, u, v = max_weight_matching(W)\n",
    "        t1[n] += timeit.default_timer() - start_time\n",
    "\n",
    "        start_time = timeit.default_timer()\n",
    "        cost, M, _, _ = max_weight_matching(W[1:, 1:])\n",
    "        t2[n] += timeit.default_timer() - start_time\n",
    "\n",
    "        start_time = timeit.default_timer()\n",
    "        cost, M, _, _ = max_weight_matching(W[1:, 1:], u[1:], v[1:])\n",
    "        t3[n] += timeit.default_timer() - start_time\n",
    "\n",
    "    print n, t1[n], t2[n], t3[n]"
   ]
  },
  {
   "cell_type": "code",
   "execution_count": 36,
   "metadata": {
    "collapsed": false
   },
   "outputs": [
    {
     "name": "stdout",
     "output_type": "stream",
     "text": [
      "0.1762 0.1762\n"
     ]
    }
   ],
   "source": [
    "W = np.array([\n",
    "    [0,       0,       0],       \n",
    "    [0.12,    0.108,   0.096],   \n",
    "    [0.05,    0.045,   0.04],    \n",
    "    [0.014,   0.0126,  0.0112]      \n",
    "])\n",
    "\n",
    "m_ = linear_sum_assignment(-W)\n",
    "cost_ = W[m_[0], m_[1]].sum()\n",
    "cost, matching, u, v = max_weight_matching(W)\n",
    "\n",
    "print cost_, cost"
   ]
  },
  {
   "cell_type": "code",
   "execution_count": null,
   "metadata": {
    "collapsed": true
   },
   "outputs": [],
   "source": []
  }
 ],
 "metadata": {
  "anaconda-cloud": {},
  "kernelspec": {
   "display_name": "Python [default]",
   "language": "python",
   "name": "python2"
  },
  "language_info": {
   "codemirror_mode": {
    "name": "ipython",
    "version": 2
   },
   "file_extension": ".py",
   "mimetype": "text/x-python",
   "name": "python",
   "nbconvert_exporter": "python",
   "pygments_lexer": "ipython2",
   "version": "2.7.12"
  }
 },
 "nbformat": 4,
 "nbformat_minor": 1
}
